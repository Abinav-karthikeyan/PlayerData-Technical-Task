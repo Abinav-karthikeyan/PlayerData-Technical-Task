{
 "cells": [
  {
   "cell_type": "code",
   "execution_count": 272,
   "metadata": {},
   "outputs": [],
   "source": [
    "import os \n",
    "import plotly as py\n",
    "import plotly.graph_objs as go\n",
    "import pandas as pd\n",
    "import numpy as np\n",
    "import math \n",
    "import re\n",
    "# import dask.dataframe as dd"
   ]
  },
  {
   "cell_type": "code",
   "execution_count": 359,
   "metadata": {},
   "outputs": [
    {
     "data": {
      "text/html": [
       "<div>\n",
       "<style scoped>\n",
       "    .dataframe tbody tr th:only-of-type {\n",
       "        vertical-align: middle;\n",
       "    }\n",
       "\n",
       "    .dataframe tbody tr th {\n",
       "        vertical-align: top;\n",
       "    }\n",
       "\n",
       "    .dataframe thead th {\n",
       "        text-align: right;\n",
       "    }\n",
       "</style>\n",
       "<table border=\"1\" class=\"dataframe\">\n",
       "  <thead>\n",
       "    <tr style=\"text-align: right;\">\n",
       "      <th></th>\n",
       "      <th>Time (s)</th>\n",
       "      <th>Pitch_x</th>\n",
       "      <th>Pitch_y</th>\n",
       "      <th>Speed (m/s)</th>\n",
       "    </tr>\n",
       "  </thead>\n",
       "  <tbody>\n",
       "    <tr>\n",
       "      <th>count</th>\n",
       "      <td>985274.000000</td>\n",
       "      <td>985274.000000</td>\n",
       "      <td>985274.000000</td>\n",
       "      <td>985274.000000</td>\n",
       "    </tr>\n",
       "    <tr>\n",
       "      <th>mean</th>\n",
       "      <td>3326.746144</td>\n",
       "      <td>-7.420383</td>\n",
       "      <td>-13.591040</td>\n",
       "      <td>1.114658</td>\n",
       "    </tr>\n",
       "    <tr>\n",
       "      <th>std</th>\n",
       "      <td>1946.573030</td>\n",
       "      <td>22.886295</td>\n",
       "      <td>25.264996</td>\n",
       "      <td>1.510692</td>\n",
       "    </tr>\n",
       "    <tr>\n",
       "      <th>min</th>\n",
       "      <td>0.000000</td>\n",
       "      <td>-86.957029</td>\n",
       "      <td>-51.186749</td>\n",
       "      <td>0.000000</td>\n",
       "    </tr>\n",
       "    <tr>\n",
       "      <th>25%</th>\n",
       "      <td>1591.400000</td>\n",
       "      <td>-20.181407</td>\n",
       "      <td>-38.526146</td>\n",
       "      <td>0.044000</td>\n",
       "    </tr>\n",
       "    <tr>\n",
       "      <th>50%</th>\n",
       "      <td>3421.050000</td>\n",
       "      <td>-11.946156</td>\n",
       "      <td>-17.893181</td>\n",
       "      <td>0.646000</td>\n",
       "    </tr>\n",
       "    <tr>\n",
       "      <th>75%</th>\n",
       "      <td>5053.400000</td>\n",
       "      <td>10.406046</td>\n",
       "      <td>7.338383</td>\n",
       "      <td>1.603500</td>\n",
       "    </tr>\n",
       "    <tr>\n",
       "      <th>max</th>\n",
       "      <td>6597.000000</td>\n",
       "      <td>122.893069</td>\n",
       "      <td>158.132620</td>\n",
       "      <td>41.762310</td>\n",
       "    </tr>\n",
       "  </tbody>\n",
       "</table>\n",
       "</div>"
      ],
      "text/plain": [
       "            Time (s)        Pitch_x        Pitch_y    Speed (m/s)\n",
       "count  985274.000000  985274.000000  985274.000000  985274.000000\n",
       "mean     3326.746144      -7.420383     -13.591040       1.114658\n",
       "std      1946.573030      22.886295      25.264996       1.510692\n",
       "min         0.000000     -86.957029     -51.186749       0.000000\n",
       "25%      1591.400000     -20.181407     -38.526146       0.044000\n",
       "50%      3421.050000     -11.946156     -17.893181       0.646000\n",
       "75%      5053.400000      10.406046       7.338383       1.603500\n",
       "max      6597.000000     122.893069     158.132620      41.762310"
      ]
     },
     "execution_count": 359,
     "metadata": {},
     "output_type": "execute_result"
    }
   ],
   "source": [
    "os.chdir(\"C:\\\\Users\\\\abhin\\\\OneDrive\\\\Documents\\\\Technical Task\")\n",
    "data = pd.read_csv(\"match_data.csv\")\n",
    "data.describe()\n"
   ]
  },
  {
   "cell_type": "code",
   "execution_count": 274,
   "metadata": {},
   "outputs": [
    {
     "data": {
      "text/plain": [
       "count    985274.000000\n",
       "mean       3326.746144\n",
       "std        1946.573030\n",
       "min           0.000000\n",
       "25%        1591.400000\n",
       "50%        3421.050000\n",
       "75%        5053.400000\n",
       "max        6597.000000\n",
       "Name: Time (s), dtype: float64"
      ]
     },
     "execution_count": 274,
     "metadata": {},
     "output_type": "execute_result"
    }
   ],
   "source": [
    "data['Time (s)'] = round(data['Time (s)'], 1)\n",
    "data['Time (s)'].describe()"
   ]
  },
  {
   "cell_type": "code",
   "execution_count": 275,
   "metadata": {},
   "outputs": [],
   "source": [
    "\n",
    "unique_vals = data['participation_id'].unique()\n",
    "id_list = [id for id in unique_vals if not bool(re.search(\"ball\", id))]\n",
    "\n",
    "# print(\"Number of Players represented is: \" + str(len(id_list)))\n",
    "\n",
    "i = 0\n",
    "players_list = [\"Player\" + str(i + 1) for i, id in enumerate(id_list)]\n",
    "\n",
    "player_id_dict = dict(zip(id_list, players_list))\n",
    "\n",
    "data['player_id'] =  data['participation_id'].map(player_id_dict)\n"
   ]
  },
  {
   "cell_type": "code",
   "execution_count": null,
   "metadata": {},
   "outputs": [],
   "source": []
  },
  {
   "cell_type": "code",
   "execution_count": 276,
   "metadata": {},
   "outputs": [
    {
     "data": {
      "text/html": [
       "<div>\n",
       "<style scoped>\n",
       "    .dataframe tbody tr th:only-of-type {\n",
       "        vertical-align: middle;\n",
       "    }\n",
       "\n",
       "    .dataframe tbody tr th {\n",
       "        vertical-align: top;\n",
       "    }\n",
       "\n",
       "    .dataframe thead th {\n",
       "        text-align: right;\n",
       "    }\n",
       "</style>\n",
       "<table border=\"1\" class=\"dataframe\">\n",
       "  <thead>\n",
       "    <tr style=\"text-align: right;\">\n",
       "      <th></th>\n",
       "      <th>participation_id</th>\n",
       "      <th>Time (s)</th>\n",
       "      <th>Pitch_x</th>\n",
       "      <th>Pitch_y</th>\n",
       "      <th>Speed (m/s)</th>\n",
       "      <th>player_id</th>\n",
       "    </tr>\n",
       "  </thead>\n",
       "  <tbody>\n",
       "    <tr>\n",
       "      <th>0</th>\n",
       "      <td>455426a2-5604-4c3a-8b89-ed0519f8d77a</td>\n",
       "      <td>0.0</td>\n",
       "      <td>-18.977667</td>\n",
       "      <td>-38.511021</td>\n",
       "      <td>0.060</td>\n",
       "      <td>Player1</td>\n",
       "    </tr>\n",
       "    <tr>\n",
       "      <th>1</th>\n",
       "      <td>685d721f-fb27-4fb6-a327-6c8b420bf47f</td>\n",
       "      <td>0.0</td>\n",
       "      <td>-18.740459</td>\n",
       "      <td>-37.195089</td>\n",
       "      <td>0.039</td>\n",
       "      <td>Player2</td>\n",
       "    </tr>\n",
       "    <tr>\n",
       "      <th>2</th>\n",
       "      <td>8d6885e6-bfa9-4561-820c-f80eac8d7f62</td>\n",
       "      <td>0.0</td>\n",
       "      <td>-14.467439</td>\n",
       "      <td>-38.767767</td>\n",
       "      <td>0.036</td>\n",
       "      <td>Player3</td>\n",
       "    </tr>\n",
       "    <tr>\n",
       "      <th>3</th>\n",
       "      <td>455426a2-5604-4c3a-8b89-ed0519f8d77a</td>\n",
       "      <td>0.1</td>\n",
       "      <td>-18.977667</td>\n",
       "      <td>-38.511021</td>\n",
       "      <td>0.071</td>\n",
       "      <td>Player1</td>\n",
       "    </tr>\n",
       "    <tr>\n",
       "      <th>4</th>\n",
       "      <td>685d721f-fb27-4fb6-a327-6c8b420bf47f</td>\n",
       "      <td>0.1</td>\n",
       "      <td>-18.737733</td>\n",
       "      <td>-37.179963</td>\n",
       "      <td>0.019</td>\n",
       "      <td>Player2</td>\n",
       "    </tr>\n",
       "  </tbody>\n",
       "</table>\n",
       "</div>"
      ],
      "text/plain": [
       "                       participation_id  Time (s)    Pitch_x    Pitch_y  \\\n",
       "0  455426a2-5604-4c3a-8b89-ed0519f8d77a       0.0 -18.977667 -38.511021   \n",
       "1  685d721f-fb27-4fb6-a327-6c8b420bf47f       0.0 -18.740459 -37.195089   \n",
       "2  8d6885e6-bfa9-4561-820c-f80eac8d7f62       0.0 -14.467439 -38.767767   \n",
       "3  455426a2-5604-4c3a-8b89-ed0519f8d77a       0.1 -18.977667 -38.511021   \n",
       "4  685d721f-fb27-4fb6-a327-6c8b420bf47f       0.1 -18.737733 -37.179963   \n",
       "\n",
       "   Speed (m/s) player_id  \n",
       "0        0.060   Player1  \n",
       "1        0.039   Player2  \n",
       "2        0.036   Player3  \n",
       "3        0.071   Player1  \n",
       "4        0.019   Player2  "
      ]
     },
     "execution_count": 276,
     "metadata": {},
     "output_type": "execute_result"
    }
   ],
   "source": [
    "data.head()"
   ]
  },
  {
   "cell_type": "code",
   "execution_count": 277,
   "metadata": {},
   "outputs": [
    {
     "name": "stdout",
     "output_type": "stream",
     "text": [
      "Number of Players represented is: 16\n"
     ]
    }
   ],
   "source": [
    "\n",
    "unique_vals = data['participation_id'].unique()\n",
    "\n",
    "id_list = [id for id in unique_vals if not bool(re.search(\"ball\", id))]\n",
    "\n",
    "print(\"Number of Players represented is: \" + str(len(id_list)))\n",
    "\n",
    "i = 0\n",
    "players_list = [\"Player\" + str(i + 1) for i, id in enumerate(id_list)]"
   ]
  },
  {
   "cell_type": "code",
   "execution_count": 278,
   "metadata": {},
   "outputs": [],
   "source": [
    "\n",
    "\n",
    "player_data = {}\n",
    "\n",
    "for player in players_list:\n",
    "    player_data[str(player)] = data[data['player_id'] == player]\n",
    "\n",
    "\n"
   ]
  },
  {
   "cell_type": "markdown",
   "metadata": {},
   "source": [
    "Assign different sprints to gps tracked data which don't justify being subsequent"
   ]
  },
  {
   "cell_type": "code",
   "execution_count": 279,
   "metadata": {},
   "outputs": [],
   "source": [
    "def Assign_Sprints(player):\n",
    "    player_temp = player\n",
    "    current_sprint = [1] * len(player)\n",
    "    index = 1\n",
    "    \n",
    "    for i in range(1, len(player_temp)):\n",
    "        if player_temp.iloc[i]['Time (s)'] - player_temp.iloc[i-1]['Time (s)'] >= 0.2:\n",
    "            index += 1\n",
    "        current_sprint[i] = index\n",
    "        \n",
    "        \n",
    "    player_temp['Sprint'] = current_sprint\n",
    "    player_temp['Sprint'] = player_temp['Sprint'].astype('object')\n",
    "        \n",
    "    return player_temp\n"
   ]
  },
  {
   "cell_type": "code",
   "execution_count": 280,
   "metadata": {},
   "outputs": [
    {
     "name": "stderr",
     "output_type": "stream",
     "text": [
      "C:\\Users\\abhin\\AppData\\Local\\Temp\\ipykernel_5196\\1371852798.py:12: SettingWithCopyWarning: \n",
      "A value is trying to be set on a copy of a slice from a DataFrame.\n",
      "Try using .loc[row_indexer,col_indexer] = value instead\n",
      "\n",
      "See the caveats in the documentation: https://pandas.pydata.org/pandas-docs/stable/user_guide/indexing.html#returning-a-view-versus-a-copy\n",
      "  player_temp['Sprint'] = current_sprint\n",
      "C:\\Users\\abhin\\AppData\\Local\\Temp\\ipykernel_5196\\1371852798.py:13: SettingWithCopyWarning: \n",
      "A value is trying to be set on a copy of a slice from a DataFrame.\n",
      "Try using .loc[row_indexer,col_indexer] = value instead\n",
      "\n",
      "See the caveats in the documentation: https://pandas.pydata.org/pandas-docs/stable/user_guide/indexing.html#returning-a-view-versus-a-copy\n",
      "  player_temp['Sprint'] = player_temp['Sprint'].astype('object')\n",
      "C:\\Users\\abhin\\AppData\\Local\\Temp\\ipykernel_5196\\1371852798.py:12: SettingWithCopyWarning: \n",
      "A value is trying to be set on a copy of a slice from a DataFrame.\n",
      "Try using .loc[row_indexer,col_indexer] = value instead\n",
      "\n",
      "See the caveats in the documentation: https://pandas.pydata.org/pandas-docs/stable/user_guide/indexing.html#returning-a-view-versus-a-copy\n",
      "  player_temp['Sprint'] = current_sprint\n",
      "C:\\Users\\abhin\\AppData\\Local\\Temp\\ipykernel_5196\\1371852798.py:13: SettingWithCopyWarning: \n",
      "A value is trying to be set on a copy of a slice from a DataFrame.\n",
      "Try using .loc[row_indexer,col_indexer] = value instead\n",
      "\n",
      "See the caveats in the documentation: https://pandas.pydata.org/pandas-docs/stable/user_guide/indexing.html#returning-a-view-versus-a-copy\n",
      "  player_temp['Sprint'] = player_temp['Sprint'].astype('object')\n",
      "C:\\Users\\abhin\\AppData\\Local\\Temp\\ipykernel_5196\\1371852798.py:12: SettingWithCopyWarning: \n",
      "A value is trying to be set on a copy of a slice from a DataFrame.\n",
      "Try using .loc[row_indexer,col_indexer] = value instead\n",
      "\n",
      "See the caveats in the documentation: https://pandas.pydata.org/pandas-docs/stable/user_guide/indexing.html#returning-a-view-versus-a-copy\n",
      "  player_temp['Sprint'] = current_sprint\n",
      "C:\\Users\\abhin\\AppData\\Local\\Temp\\ipykernel_5196\\1371852798.py:13: SettingWithCopyWarning: \n",
      "A value is trying to be set on a copy of a slice from a DataFrame.\n",
      "Try using .loc[row_indexer,col_indexer] = value instead\n",
      "\n",
      "See the caveats in the documentation: https://pandas.pydata.org/pandas-docs/stable/user_guide/indexing.html#returning-a-view-versus-a-copy\n",
      "  player_temp['Sprint'] = player_temp['Sprint'].astype('object')\n",
      "C:\\Users\\abhin\\AppData\\Local\\Temp\\ipykernel_5196\\1371852798.py:12: SettingWithCopyWarning: \n",
      "A value is trying to be set on a copy of a slice from a DataFrame.\n",
      "Try using .loc[row_indexer,col_indexer] = value instead\n",
      "\n",
      "See the caveats in the documentation: https://pandas.pydata.org/pandas-docs/stable/user_guide/indexing.html#returning-a-view-versus-a-copy\n",
      "  player_temp['Sprint'] = current_sprint\n",
      "C:\\Users\\abhin\\AppData\\Local\\Temp\\ipykernel_5196\\1371852798.py:13: SettingWithCopyWarning: \n",
      "A value is trying to be set on a copy of a slice from a DataFrame.\n",
      "Try using .loc[row_indexer,col_indexer] = value instead\n",
      "\n",
      "See the caveats in the documentation: https://pandas.pydata.org/pandas-docs/stable/user_guide/indexing.html#returning-a-view-versus-a-copy\n",
      "  player_temp['Sprint'] = player_temp['Sprint'].astype('object')\n",
      "C:\\Users\\abhin\\AppData\\Local\\Temp\\ipykernel_5196\\1371852798.py:12: SettingWithCopyWarning: \n",
      "A value is trying to be set on a copy of a slice from a DataFrame.\n",
      "Try using .loc[row_indexer,col_indexer] = value instead\n",
      "\n",
      "See the caveats in the documentation: https://pandas.pydata.org/pandas-docs/stable/user_guide/indexing.html#returning-a-view-versus-a-copy\n",
      "  player_temp['Sprint'] = current_sprint\n",
      "C:\\Users\\abhin\\AppData\\Local\\Temp\\ipykernel_5196\\1371852798.py:13: SettingWithCopyWarning: \n",
      "A value is trying to be set on a copy of a slice from a DataFrame.\n",
      "Try using .loc[row_indexer,col_indexer] = value instead\n",
      "\n",
      "See the caveats in the documentation: https://pandas.pydata.org/pandas-docs/stable/user_guide/indexing.html#returning-a-view-versus-a-copy\n",
      "  player_temp['Sprint'] = player_temp['Sprint'].astype('object')\n",
      "C:\\Users\\abhin\\AppData\\Local\\Temp\\ipykernel_5196\\1371852798.py:12: SettingWithCopyWarning: \n",
      "A value is trying to be set on a copy of a slice from a DataFrame.\n",
      "Try using .loc[row_indexer,col_indexer] = value instead\n",
      "\n",
      "See the caveats in the documentation: https://pandas.pydata.org/pandas-docs/stable/user_guide/indexing.html#returning-a-view-versus-a-copy\n",
      "  player_temp['Sprint'] = current_sprint\n",
      "C:\\Users\\abhin\\AppData\\Local\\Temp\\ipykernel_5196\\1371852798.py:13: SettingWithCopyWarning: \n",
      "A value is trying to be set on a copy of a slice from a DataFrame.\n",
      "Try using .loc[row_indexer,col_indexer] = value instead\n",
      "\n",
      "See the caveats in the documentation: https://pandas.pydata.org/pandas-docs/stable/user_guide/indexing.html#returning-a-view-versus-a-copy\n",
      "  player_temp['Sprint'] = player_temp['Sprint'].astype('object')\n",
      "C:\\Users\\abhin\\AppData\\Local\\Temp\\ipykernel_5196\\1371852798.py:12: SettingWithCopyWarning: \n",
      "A value is trying to be set on a copy of a slice from a DataFrame.\n",
      "Try using .loc[row_indexer,col_indexer] = value instead\n",
      "\n",
      "See the caveats in the documentation: https://pandas.pydata.org/pandas-docs/stable/user_guide/indexing.html#returning-a-view-versus-a-copy\n",
      "  player_temp['Sprint'] = current_sprint\n",
      "C:\\Users\\abhin\\AppData\\Local\\Temp\\ipykernel_5196\\1371852798.py:13: SettingWithCopyWarning: \n",
      "A value is trying to be set on a copy of a slice from a DataFrame.\n",
      "Try using .loc[row_indexer,col_indexer] = value instead\n",
      "\n",
      "See the caveats in the documentation: https://pandas.pydata.org/pandas-docs/stable/user_guide/indexing.html#returning-a-view-versus-a-copy\n",
      "  player_temp['Sprint'] = player_temp['Sprint'].astype('object')\n",
      "C:\\Users\\abhin\\AppData\\Local\\Temp\\ipykernel_5196\\1371852798.py:12: SettingWithCopyWarning: \n",
      "A value is trying to be set on a copy of a slice from a DataFrame.\n",
      "Try using .loc[row_indexer,col_indexer] = value instead\n",
      "\n",
      "See the caveats in the documentation: https://pandas.pydata.org/pandas-docs/stable/user_guide/indexing.html#returning-a-view-versus-a-copy\n",
      "  player_temp['Sprint'] = current_sprint\n",
      "C:\\Users\\abhin\\AppData\\Local\\Temp\\ipykernel_5196\\1371852798.py:13: SettingWithCopyWarning: \n",
      "A value is trying to be set on a copy of a slice from a DataFrame.\n",
      "Try using .loc[row_indexer,col_indexer] = value instead\n",
      "\n",
      "See the caveats in the documentation: https://pandas.pydata.org/pandas-docs/stable/user_guide/indexing.html#returning-a-view-versus-a-copy\n",
      "  player_temp['Sprint'] = player_temp['Sprint'].astype('object')\n",
      "C:\\Users\\abhin\\AppData\\Local\\Temp\\ipykernel_5196\\1371852798.py:12: SettingWithCopyWarning: \n",
      "A value is trying to be set on a copy of a slice from a DataFrame.\n",
      "Try using .loc[row_indexer,col_indexer] = value instead\n",
      "\n",
      "See the caveats in the documentation: https://pandas.pydata.org/pandas-docs/stable/user_guide/indexing.html#returning-a-view-versus-a-copy\n",
      "  player_temp['Sprint'] = current_sprint\n",
      "C:\\Users\\abhin\\AppData\\Local\\Temp\\ipykernel_5196\\1371852798.py:13: SettingWithCopyWarning: \n",
      "A value is trying to be set on a copy of a slice from a DataFrame.\n",
      "Try using .loc[row_indexer,col_indexer] = value instead\n",
      "\n",
      "See the caveats in the documentation: https://pandas.pydata.org/pandas-docs/stable/user_guide/indexing.html#returning-a-view-versus-a-copy\n",
      "  player_temp['Sprint'] = player_temp['Sprint'].astype('object')\n",
      "C:\\Users\\abhin\\AppData\\Local\\Temp\\ipykernel_5196\\1371852798.py:12: SettingWithCopyWarning: \n",
      "A value is trying to be set on a copy of a slice from a DataFrame.\n",
      "Try using .loc[row_indexer,col_indexer] = value instead\n",
      "\n",
      "See the caveats in the documentation: https://pandas.pydata.org/pandas-docs/stable/user_guide/indexing.html#returning-a-view-versus-a-copy\n",
      "  player_temp['Sprint'] = current_sprint\n",
      "C:\\Users\\abhin\\AppData\\Local\\Temp\\ipykernel_5196\\1371852798.py:13: SettingWithCopyWarning: \n",
      "A value is trying to be set on a copy of a slice from a DataFrame.\n",
      "Try using .loc[row_indexer,col_indexer] = value instead\n",
      "\n",
      "See the caveats in the documentation: https://pandas.pydata.org/pandas-docs/stable/user_guide/indexing.html#returning-a-view-versus-a-copy\n",
      "  player_temp['Sprint'] = player_temp['Sprint'].astype('object')\n",
      "C:\\Users\\abhin\\AppData\\Local\\Temp\\ipykernel_5196\\1371852798.py:12: SettingWithCopyWarning: \n",
      "A value is trying to be set on a copy of a slice from a DataFrame.\n",
      "Try using .loc[row_indexer,col_indexer] = value instead\n",
      "\n",
      "See the caveats in the documentation: https://pandas.pydata.org/pandas-docs/stable/user_guide/indexing.html#returning-a-view-versus-a-copy\n",
      "  player_temp['Sprint'] = current_sprint\n",
      "C:\\Users\\abhin\\AppData\\Local\\Temp\\ipykernel_5196\\1371852798.py:13: SettingWithCopyWarning: \n",
      "A value is trying to be set on a copy of a slice from a DataFrame.\n",
      "Try using .loc[row_indexer,col_indexer] = value instead\n",
      "\n",
      "See the caveats in the documentation: https://pandas.pydata.org/pandas-docs/stable/user_guide/indexing.html#returning-a-view-versus-a-copy\n",
      "  player_temp['Sprint'] = player_temp['Sprint'].astype('object')\n",
      "C:\\Users\\abhin\\AppData\\Local\\Temp\\ipykernel_5196\\1371852798.py:12: SettingWithCopyWarning: \n",
      "A value is trying to be set on a copy of a slice from a DataFrame.\n",
      "Try using .loc[row_indexer,col_indexer] = value instead\n",
      "\n",
      "See the caveats in the documentation: https://pandas.pydata.org/pandas-docs/stable/user_guide/indexing.html#returning-a-view-versus-a-copy\n",
      "  player_temp['Sprint'] = current_sprint\n",
      "C:\\Users\\abhin\\AppData\\Local\\Temp\\ipykernel_5196\\1371852798.py:13: SettingWithCopyWarning: \n",
      "A value is trying to be set on a copy of a slice from a DataFrame.\n",
      "Try using .loc[row_indexer,col_indexer] = value instead\n",
      "\n",
      "See the caveats in the documentation: https://pandas.pydata.org/pandas-docs/stable/user_guide/indexing.html#returning-a-view-versus-a-copy\n",
      "  player_temp['Sprint'] = player_temp['Sprint'].astype('object')\n",
      "C:\\Users\\abhin\\AppData\\Local\\Temp\\ipykernel_5196\\1371852798.py:12: SettingWithCopyWarning: \n",
      "A value is trying to be set on a copy of a slice from a DataFrame.\n",
      "Try using .loc[row_indexer,col_indexer] = value instead\n",
      "\n",
      "See the caveats in the documentation: https://pandas.pydata.org/pandas-docs/stable/user_guide/indexing.html#returning-a-view-versus-a-copy\n",
      "  player_temp['Sprint'] = current_sprint\n",
      "C:\\Users\\abhin\\AppData\\Local\\Temp\\ipykernel_5196\\1371852798.py:13: SettingWithCopyWarning: \n",
      "A value is trying to be set on a copy of a slice from a DataFrame.\n",
      "Try using .loc[row_indexer,col_indexer] = value instead\n",
      "\n",
      "See the caveats in the documentation: https://pandas.pydata.org/pandas-docs/stable/user_guide/indexing.html#returning-a-view-versus-a-copy\n",
      "  player_temp['Sprint'] = player_temp['Sprint'].astype('object')\n",
      "C:\\Users\\abhin\\AppData\\Local\\Temp\\ipykernel_5196\\1371852798.py:12: SettingWithCopyWarning: \n",
      "A value is trying to be set on a copy of a slice from a DataFrame.\n",
      "Try using .loc[row_indexer,col_indexer] = value instead\n",
      "\n",
      "See the caveats in the documentation: https://pandas.pydata.org/pandas-docs/stable/user_guide/indexing.html#returning-a-view-versus-a-copy\n",
      "  player_temp['Sprint'] = current_sprint\n",
      "C:\\Users\\abhin\\AppData\\Local\\Temp\\ipykernel_5196\\1371852798.py:13: SettingWithCopyWarning: \n",
      "A value is trying to be set on a copy of a slice from a DataFrame.\n",
      "Try using .loc[row_indexer,col_indexer] = value instead\n",
      "\n",
      "See the caveats in the documentation: https://pandas.pydata.org/pandas-docs/stable/user_guide/indexing.html#returning-a-view-versus-a-copy\n",
      "  player_temp['Sprint'] = player_temp['Sprint'].astype('object')\n",
      "C:\\Users\\abhin\\AppData\\Local\\Temp\\ipykernel_5196\\1371852798.py:12: SettingWithCopyWarning: \n",
      "A value is trying to be set on a copy of a slice from a DataFrame.\n",
      "Try using .loc[row_indexer,col_indexer] = value instead\n",
      "\n",
      "See the caveats in the documentation: https://pandas.pydata.org/pandas-docs/stable/user_guide/indexing.html#returning-a-view-versus-a-copy\n",
      "  player_temp['Sprint'] = current_sprint\n",
      "C:\\Users\\abhin\\AppData\\Local\\Temp\\ipykernel_5196\\1371852798.py:13: SettingWithCopyWarning: \n",
      "A value is trying to be set on a copy of a slice from a DataFrame.\n",
      "Try using .loc[row_indexer,col_indexer] = value instead\n",
      "\n",
      "See the caveats in the documentation: https://pandas.pydata.org/pandas-docs/stable/user_guide/indexing.html#returning-a-view-versus-a-copy\n",
      "  player_temp['Sprint'] = player_temp['Sprint'].astype('object')\n",
      "C:\\Users\\abhin\\AppData\\Local\\Temp\\ipykernel_5196\\1371852798.py:12: SettingWithCopyWarning: \n",
      "A value is trying to be set on a copy of a slice from a DataFrame.\n",
      "Try using .loc[row_indexer,col_indexer] = value instead\n",
      "\n",
      "See the caveats in the documentation: https://pandas.pydata.org/pandas-docs/stable/user_guide/indexing.html#returning-a-view-versus-a-copy\n",
      "  player_temp['Sprint'] = current_sprint\n",
      "C:\\Users\\abhin\\AppData\\Local\\Temp\\ipykernel_5196\\1371852798.py:13: SettingWithCopyWarning: \n",
      "A value is trying to be set on a copy of a slice from a DataFrame.\n",
      "Try using .loc[row_indexer,col_indexer] = value instead\n",
      "\n",
      "See the caveats in the documentation: https://pandas.pydata.org/pandas-docs/stable/user_guide/indexing.html#returning-a-view-versus-a-copy\n",
      "  player_temp['Sprint'] = player_temp['Sprint'].astype('object')\n"
     ]
    }
   ],
   "source": [
    "for player in players_list:\n",
    "    player_data[player] = Assign_Sprints(player_data[player])"
   ]
  },
  {
   "cell_type": "markdown",
   "metadata": {},
   "source": [
    "Aggregate Players Based on Sprint Data"
   ]
  },
  {
   "cell_type": "markdown",
   "metadata": {},
   "source": [
    "Function to Extract Sprints which have atleast 3 consecutive observations (0.3 seconds)"
   ]
  },
  {
   "cell_type": "code",
   "execution_count": 296,
   "metadata": {},
   "outputs": [],
   "source": [
    "def extract_sprint_data(player, N):\n",
    "    sprints_desired = player['Sprint'].value_counts()[lambda x: x >= N]\n",
    "    return(player[player['Sprint'].isin(sprints_desired.index)])\n",
    "\n",
    "   \n",
    "        "
   ]
  },
  {
   "cell_type": "code",
   "execution_count": 301,
   "metadata": {},
   "outputs": [
    {
     "name": "stdout",
     "output_type": "stream",
     "text": [
      "{'Player1': 65971, 'Player14': 64576, 'Player3': 64272, 'Player2': 63962, 'Player4': 63935, 'Player15': 59852, 'Player8': 57684, 'Player10': 57621, 'Player13': 57442, 'Player11': 57395, 'Player5': 57304, 'Player7': 56082, 'Player12': 52860, 'Player16': 47967, 'Player9': 47015, 'Player6': 46104}\n"
     ]
    }
   ],
   "source": [
    "obs = {}\n",
    "for player in players_list:\n",
    "    obs[player] = len(player_data[player])\n",
    "obs = dict(sorted(obs.items(), key=lambda item: item[1], reverse = True))\n",
    "print(obs)"
   ]
  },
  {
   "cell_type": "markdown",
   "metadata": {},
   "source": [
    "Total Time Running on Pitch: Only counting those actions which involve a continuous run of atleast 1 minute (600 ms)"
   ]
  },
  {
   "cell_type": "code",
   "execution_count": 303,
   "metadata": {},
   "outputs": [
    {
     "data": {
      "text/plain": [
       "{'Player1': 109.95166666666667,\n",
       " 'Player14': 107.51666666666667,\n",
       " 'Player3': 107.08,\n",
       " 'Player2': 106.46833333333333,\n",
       " 'Player4': 106.245,\n",
       " 'Player8': 96.08,\n",
       " 'Player10': 96.015,\n",
       " 'Player13': 95.57833333333333,\n",
       " 'Player5': 95.34,\n",
       " 'Player11': 94.60333333333334,\n",
       " 'Player12': 87.89666666666666,\n",
       " 'Player7': 85.57166666666667,\n",
       " 'Player15': 83.95166666666667,\n",
       " 'Player6': 76.085,\n",
       " 'Player16': 53.44,\n",
       " 'Player9': 51.931666666666665}"
      ]
     },
     "execution_count": 303,
     "metadata": {},
     "output_type": "execute_result"
    }
   ],
   "source": [
    "time_leaderboard = {}\n",
    "for player in players_list:\n",
    "    \n",
    "    time_leaderboard[player] = len(extract_sprint_data(player_data[player], 600))/600\n",
    "\n",
    "time_leaderboard = dict(sorted(time_leaderboard.items(), key=lambda item: item[1], reverse = True))\n",
    "\n",
    "time_leaderboard"
   ]
  },
  {
   "cell_type": "markdown",
   "metadata": {},
   "source": [
    "Total Distance Covered by Each Player: Only those runs where it indicates of atleast a minute continously are counted."
   ]
  },
  {
   "cell_type": "code",
   "execution_count": 322,
   "metadata": {},
   "outputs": [],
   "source": [
    "def Total_Distance_LeaderBoard(player):\n",
    "    run = extract_sprint_data(player_data[player], 600)\n",
    "    dist = 0\n",
    "    for sprint in run['Sprint'].unique():\n",
    "        sprint_data = run[run['Sprint'] == sprint]\n",
    "        for i in range(len(sprint_data)-1):\n",
    "            dist += math.sqrt((sprint_data.iloc[i+1][\"Pitch_x\"] - sprint_data.iloc[i][\"Pitch_x\"])**2 + (sprint_data.iloc[i+1][\"Pitch_y\"] - sprint_data.iloc[i][\"Pitch_y\"])**2)\n",
    "    \n",
    "    return dist\n",
    "    \n",
    "\n",
    "\n",
    "                    "
   ]
  },
  {
   "cell_type": "code",
   "execution_count": 323,
   "metadata": {},
   "outputs": [
    {
     "name": "stdout",
     "output_type": "stream",
     "text": [
      "{'Player1': 2849.10344851448, 'Player2': 4717.202753694732, 'Player3': 2263.3772338258555, 'Player4': 2485.8215132410555, 'Player5': 11511.365999526794, 'Player6': 8110.86624029054, 'Player7': 8823.726475040054, 'Player8': 11609.41255341729, 'Player9': 3956.231234577059, 'Player10': 11504.626172822784, 'Player11': 10251.528493340998, 'Player12': 9061.48423940073, 'Player13': 12189.5811254468, 'Player14': 5613.442167735119, 'Player15': 4588.82262023078, 'Player16': 4855.414690967495}\n"
     ]
    }
   ],
   "source": [
    "distance_leaderboard = {}\n",
    "for player in players_list:\n",
    "    distance_leaderboard[player] = Total_Distance_LeaderBoard(player)\n",
    "\n",
    "\n",
    "print(distance_leaderboard)\n"
   ]
  },
  {
   "cell_type": "markdown",
   "metadata": {},
   "source": [
    "Counting Number of Seconds a Player's instantaneous speed is above Zone 5:"
   ]
  },
  {
   "cell_type": "code",
   "execution_count": 337,
   "metadata": {},
   "outputs": [],
   "source": [
    "def zone5_count(player):\n",
    "    run = extract_sprint_data(player_data[player], 10)\n",
    "    dist_zone5 = 0.0\n",
    "    for sprint in run['Sprint'].unique():\n",
    "        sprint_data = run[run['Sprint'] == sprint]\n",
    "        for i in range(len(sprint_data)-1):\n",
    "            dist_ms = math.sqrt((sprint_data.iloc[i+1][\"Pitch_x\"] - sprint_data.iloc[i][\"Pitch_x\"])**2 + (sprint_data.iloc[i+1][\"Pitch_y\"] - sprint_data.iloc[i][\"Pitch_y\"])**2)*10 \n",
    "            if(dist_ms>= 19.8/3.6 and dist_ms <= 25.1/3.6):\n",
    "              dist_zone5 += dist_ms\n",
    "              \n",
    "    return dist_zone5\n"
   ]
  },
  {
   "cell_type": "code",
   "execution_count": 338,
   "metadata": {},
   "outputs": [
    {
     "name": "stdout",
     "output_type": "stream",
     "text": [
      "{'Player1': 471.49678902657735, 'Player2': 1564.0536698400651, 'Player3': 506.9477436819822, 'Player4': 169.041279905275, 'Player5': 5037.445721048476, 'Player6': 2463.136046354653, 'Player7': 3587.1942507081294, 'Player8': 6684.288754175046, 'Player9': 2290.5268915168253, 'Player10': 4795.664725025475, 'Player11': 4966.497114562847, 'Player12': 4133.403116916738, 'Player13': 8111.167615139158, 'Player14': 2155.7868838868726, 'Player15': 1378.3653189529969, 'Player16': 2246.8636001606633}\n"
     ]
    }
   ],
   "source": [
    "distance_zone5_leaderboard = {}\n",
    "\n",
    "for player in players_list:\n",
    "    distance_zone5_leaderboard[player] = zone5_count(player)\n",
    "\n",
    "\n",
    "\n",
    "print(distance_zone5_leaderboard)\n"
   ]
  },
  {
   "cell_type": "code",
   "execution_count": 334,
   "metadata": {},
   "outputs": [
    {
     "name": "stdout",
     "output_type": "stream",
     "text": [
      "{'Player1': 0.0, 'Player2': 0.0, 'Player3': 0.0, 'Player4': 0.0, 'Player5': 5.682304001567916, 'Player6': 0.0, 'Player7': 12.027518530698101, 'Player8': 6.549492794120983, 'Player9': 129.20382962541373, 'Player10': 0.0, 'Player11': 0.0, 'Player12': 0.0, 'Player13': 0.0, 'Player14': 0.0, 'Player15': 43.37443368899486, 'Player16': 54.81168831775435}\n"
     ]
    }
   ],
   "source": [
    "print(distance_zone5_leaderboard)"
   ]
  },
  {
   "cell_type": "markdown",
   "metadata": {},
   "source": [
    "Top Speed Calculation based on DIstance covered each second (10 ms windows)"
   ]
  },
  {
   "cell_type": "markdown",
   "metadata": {},
   "source": [
    "Euclidean calculator for a segment:"
   ]
  },
  {
   "cell_type": "code",
   "execution_count": 379,
   "metadata": {},
   "outputs": [],
   "source": [
    "def Euclidean_Dist(seg):\n",
    "    dist = 0\n",
    "    for i in range(len(seg)-1):\n",
    "        dist += math.sqrt((seg.iloc[i+1][\"Pitch_x\"] - seg.iloc[i][\"Pitch_x\"])**2 + (seg.iloc[i+1][\"Pitch_y\"] - seg.iloc[i][\"Pitch_y\"])**2)\n",
    "        return dist"
   ]
  },
  {
   "cell_type": "code",
   "execution_count": 380,
   "metadata": {},
   "outputs": [],
   "source": [
    "def Top_Speed_Leaderboard(player):\n",
    "    run = extract_sprint_data(player_data[player], 600)\n",
    "    \n",
    "    speeds = []\n",
    "    for sprint in run['Sprint'].unique():\n",
    "        sprint_data = run[run['Sprint'] == sprint]\n",
    "        for i in range(len(sprint_data)-10):\n",
    "            speeds.append(Euclidean_Dist(sprint_data.iloc[i:i+10]))\n",
    "            #     speeds.append(math.sqrt((sprint_data.iloc[j][\"Pitch_x\"] - sprint_data.iloc[j+1][\"Pitch_x\"])**2 + (sprint_data.iloc[j][\"Pitch_y\"] - sprint_data.iloc[j+1][\"Pitch_y\"])**2))\n",
    "                \n",
    "    \n",
    "    return speeds"
   ]
  },
  {
   "cell_type": "code",
   "execution_count": 381,
   "metadata": {},
   "outputs": [
    {
     "name": "stdout",
     "output_type": "stream",
     "text": [
      "{'Player1': 0.9802995374606941, 'Player2': 2.2386958611559167, 'Player3': 5.719693621132635, 'Player4': 2.1817552108583684, 'Player5': 1.3678918496722543, 'Player6': 1.383159698624875, 'Player7': 0.9993485173565819, 'Player8': 1.378207450479666, 'Player9': 0.9881579917159862, 'Player10': 1.7807248038253929, 'Player11': 1.4169807810334796, 'Player12': 7.2533876515410824, 'Player13': 1.0517141645597292, 'Player14': 2.292072619712598, 'Player15': 1.1382756613746288, 'Player16': 1.0013162739013324}\n"
     ]
    }
   ],
   "source": [
    "max_speed_leaderboard = {}\n",
    "\n",
    "for player in players_list:\n",
    "    \n",
    "    max_speed_leaderboard[player] = max(Top_Speed_Leaderboard(player))\n",
    "\n",
    "\n",
    "\n",
    "print(max_speed_leaderboard)"
   ]
  },
  {
   "cell_type": "code",
   "execution_count": 371,
   "metadata": {},
   "outputs": [
    {
     "data": {
      "text/plain": [
       "0.9802995374606941"
      ]
     },
     "execution_count": 371,
     "metadata": {},
     "output_type": "execute_result"
    }
   ],
   "source": [
    "max(Top_Speed_Leaderboard('Player1'))"
   ]
  },
  {
   "cell_type": "code",
   "execution_count": 349,
   "metadata": {},
   "outputs": [],
   "source": [
    "run = extract_sprint_data(player_data['Player12'], 600)\n",
    "    \n",
    "speeds = []\n",
    "for sprint in run['Sprint'].unique():\n",
    "        sprint_data = run[run['Sprint'] == sprint]\n",
    "        for i in range(len(sprint_data)-1):\n",
    "            \n",
    "              speeds.append((math.sqrt((sprint_data.iloc[i+1][\"Pitch_x\"] - sprint_data.iloc[i][\"Pitch_x\"])**2 + (sprint_data.iloc[i+1][\"Pitch_y\"] - sprint_data.iloc[i][\"Pitch_y\"])**2)*10))\n",
    "dfspd = pd.DataFrame(speeds, columns=['Speed'])\n",
    "dfspd.index.name = 'Index'"
   ]
  },
  {
   "cell_type": "code",
   "execution_count": 355,
   "metadata": {},
   "outputs": [
    {
     "data": {
      "text/html": [
       "<div>\n",
       "<style scoped>\n",
       "    .dataframe tbody tr th:only-of-type {\n",
       "        vertical-align: middle;\n",
       "    }\n",
       "\n",
       "    .dataframe tbody tr th {\n",
       "        vertical-align: top;\n",
       "    }\n",
       "\n",
       "    .dataframe thead th {\n",
       "        text-align: right;\n",
       "    }\n",
       "</style>\n",
       "<table border=\"1\" class=\"dataframe\">\n",
       "  <thead>\n",
       "    <tr style=\"text-align: right;\">\n",
       "      <th></th>\n",
       "      <th>participation_id</th>\n",
       "      <th>Time (s)</th>\n",
       "      <th>Pitch_x</th>\n",
       "      <th>Pitch_y</th>\n",
       "      <th>Speed (m/s)</th>\n",
       "      <th>player_id</th>\n",
       "      <th>Sprint</th>\n",
       "    </tr>\n",
       "  </thead>\n",
       "  <tbody>\n",
       "    <tr>\n",
       "      <th>915852</th>\n",
       "      <td>320d9832-0fdf-400e-b4e1-0d2b56144cf9</td>\n",
       "      <td>6133.8</td>\n",
       "      <td>54.508659</td>\n",
       "      <td>33.964976</td>\n",
       "      <td>1.751000</td>\n",
       "      <td>Player12</td>\n",
       "      <td>21</td>\n",
       "    </tr>\n",
       "    <tr>\n",
       "      <th>915868</th>\n",
       "      <td>320d9832-0fdf-400e-b4e1-0d2b56144cf9</td>\n",
       "      <td>6133.9</td>\n",
       "      <td>57.868691</td>\n",
       "      <td>40.237314</td>\n",
       "      <td>1.778098</td>\n",
       "      <td>Player12</td>\n",
       "      <td>21</td>\n",
       "    </tr>\n",
       "  </tbody>\n",
       "</table>\n",
       "</div>"
      ],
      "text/plain": [
       "                            participation_id  Time (s)    Pitch_x    Pitch_y  \\\n",
       "915852  320d9832-0fdf-400e-b4e1-0d2b56144cf9    6133.8  54.508659  33.964976   \n",
       "915868  320d9832-0fdf-400e-b4e1-0d2b56144cf9    6133.9  57.868691  40.237314   \n",
       "\n",
       "        Speed (m/s) player_id Sprint  \n",
       "915852     1.751000  Player12     21  \n",
       "915868     1.778098  Player12     21  "
      ]
     },
     "execution_count": 355,
     "metadata": {},
     "output_type": "execute_result"
    }
   ],
   "source": [
    "run.iloc[52717:52719]"
   ]
  },
  {
   "cell_type": "code",
   "execution_count": 366,
   "metadata": {},
   "outputs": [
    {
     "data": {
      "text/plain": [
       "8.199999809"
      ]
     },
     "execution_count": 366,
     "metadata": {},
     "output_type": "execute_result"
    }
   ],
   "source": [
    "data.loc[data[data['participation_id'] != 'ball']['Speed (m/s)'].idxmax(), 'Speed (m/s)']"
   ]
  },
  {
   "cell_type": "code",
   "execution_count": 64,
   "metadata": {},
   "outputs": [
    {
     "name": "stdout",
     "output_type": "stream",
     "text": [
      "0.0 6597.0\n",
      "0.0 6596.9\n",
      "0.0 6597.0\n",
      "0.2 6597.0\n",
      "5.2 6597.0\n",
      "5.3 5471.9\n",
      "5.8 6596.9\n",
      "6.1 6597.0\n",
      "13.0 6597.0\n",
      "14.1 6596.9\n",
      "15.1 6597.0\n",
      "15.1 6135.8\n",
      "21.6 6596.9\n",
      "35.1 6596.9\n",
      "89.8 6596.9\n",
      "388.0 6597.0\n"
     ]
    }
   ],
   "source": [
    "for i in player_data.keys():\n",
    "    print(min(player_data[i]['Time (s)']), max(player_data[i]['Time (s)']))"
   ]
  },
  {
   "cell_type": "code",
   "execution_count": null,
   "metadata": {},
   "outputs": [],
   "source": [
    "\n",
    "temp = intense_sprint(player_data['455426a2-5604-4c3a-8b89-ed0519f8d77a'])\n",
    "temp"
   ]
  },
  {
   "cell_type": "code",
   "execution_count": 65,
   "metadata": {},
   "outputs": [],
   "source": [
    "def aggregate_data(player, units):\n",
    "    if(units == 'seconds'):\n",
    "        player_agg = player[::10]\n",
    "        max_speed = player['Speed (m/s)'].rolling(window=10, min_periods=1).max()\n",
    "        player_agg['Max Speed'] = max_speed[::10]\n",
    "        return player_agg\n",
    "    "
   ]
  },
  {
   "cell_type": "code",
   "execution_count": 70,
   "metadata": {},
   "outputs": [],
   "source": [
    "def distance_covered(player):\n",
    "    dist = 0\n",
    "    for i in range(1, len(player)-1):\n",
    "        dist += math.sqrt((player.iloc[i+1][\"Pitch_x\"] - player.iloc[i][\"Pitch_x\"])**2 + (player.iloc[i+1][\"Pitch_y\"] - player.iloc[i][\"Pitch_y\"])**2)\n",
    "    return dist\n",
    "        "
   ]
  },
  {
   "cell_type": "code",
   "execution_count": 77,
   "metadata": {},
   "outputs": [
    {
     "ename": "AttributeError",
     "evalue": "'DataFrame' object has no attribute 'append'",
     "output_type": "error",
     "traceback": [
      "\u001b[1;31m---------------------------------------------------------------------------\u001b[0m",
      "\u001b[1;31mAttributeError\u001b[0m                            Traceback (most recent call last)",
      "\u001b[1;32m~\\AppData\\Local\\Temp\\ipykernel_5196\\3819658117.py\u001b[0m in \u001b[0;36m?\u001b[1;34m()\u001b[0m\n\u001b[1;32m----> 1\u001b[1;33m \u001b[0mDistance_Covered\u001b[0m\u001b[1;33m.\u001b[0m\u001b[0mappend\u001b[0m\u001b[1;33m(\u001b[0m\u001b[1;33m{\u001b[0m\u001b[1;34m\"d\"\u001b[0m\u001b[1;33m,\u001b[0m\u001b[1;36m3\u001b[0m\u001b[1;33m}\u001b[0m\u001b[1;33m)\u001b[0m\u001b[1;33m\u001b[0m\u001b[1;33m\u001b[0m\u001b[0m\n\u001b[0m",
      "\u001b[1;32m~\\AppData\\Local\\Packages\\PythonSoftwareFoundation.Python.3.11_qbz5n2kfra8p0\\LocalCache\\local-packages\\Python311\\site-packages\\pandas\\core\\generic.py\u001b[0m in \u001b[0;36m?\u001b[1;34m(self, name)\u001b[0m\n\u001b[0;32m   6198\u001b[0m             \u001b[1;32mand\u001b[0m \u001b[0mname\u001b[0m \u001b[1;32mnot\u001b[0m \u001b[1;32min\u001b[0m \u001b[0mself\u001b[0m\u001b[1;33m.\u001b[0m\u001b[0m_accessors\u001b[0m\u001b[1;33m\u001b[0m\u001b[1;33m\u001b[0m\u001b[0m\n\u001b[0;32m   6199\u001b[0m             \u001b[1;32mand\u001b[0m \u001b[0mself\u001b[0m\u001b[1;33m.\u001b[0m\u001b[0m_info_axis\u001b[0m\u001b[1;33m.\u001b[0m\u001b[0m_can_hold_identifiers_and_holds_name\u001b[0m\u001b[1;33m(\u001b[0m\u001b[0mname\u001b[0m\u001b[1;33m)\u001b[0m\u001b[1;33m\u001b[0m\u001b[1;33m\u001b[0m\u001b[0m\n\u001b[0;32m   6200\u001b[0m         ):\n\u001b[0;32m   6201\u001b[0m             \u001b[1;32mreturn\u001b[0m \u001b[0mself\u001b[0m\u001b[1;33m[\u001b[0m\u001b[0mname\u001b[0m\u001b[1;33m]\u001b[0m\u001b[1;33m\u001b[0m\u001b[1;33m\u001b[0m\u001b[0m\n\u001b[1;32m-> 6202\u001b[1;33m         \u001b[1;32mreturn\u001b[0m \u001b[0mobject\u001b[0m\u001b[1;33m.\u001b[0m\u001b[0m__getattribute__\u001b[0m\u001b[1;33m(\u001b[0m\u001b[0mself\u001b[0m\u001b[1;33m,\u001b[0m \u001b[0mname\u001b[0m\u001b[1;33m)\u001b[0m\u001b[1;33m\u001b[0m\u001b[1;33m\u001b[0m\u001b[0m\n\u001b[0m",
      "\u001b[1;31mAttributeError\u001b[0m: 'DataFrame' object has no attribute 'append'"
     ]
    }
   ],
   "source": [
    "Distance_Covered.append({\"d\",3})"
   ]
  },
  {
   "cell_type": "code",
   "execution_count": 84,
   "metadata": {},
   "outputs": [
    {
     "name": "stderr",
     "output_type": "stream",
     "text": [
      "C:\\Users\\abhin\\AppData\\Local\\Temp\\ipykernel_5196\\876618897.py:4: FutureWarning: The behavior of DataFrame concatenation with empty or all-NA entries is deprecated. In a future version, this will no longer exclude empty or all-NA columns when determining the result dtypes. To retain the old behavior, exclude the relevant entries before the concat operation.\n",
      "  Distance_Covered = pd.concat([Distance_Covered, pd.DataFrame([{'Player': player, 'Distance Covered': distance_covered(player_data[player])}])], ignore_index=True)\n"
     ]
    }
   ],
   "source": [
    "Distance_Covered = pd.DataFrame(columns = ['Player', 'Distance Covered'])\n",
    "\n",
    "for player in player_data.keys():\n",
    "    Distance_Covered = pd.concat([Distance_Covered, pd.DataFrame([{'Player': player, 'Distance Covered': distance_covered(player_data[player])}])], ignore_index=True)"
   ]
  },
  {
   "cell_type": "code",
   "execution_count": 85,
   "metadata": {},
   "outputs": [
    {
     "data": {
      "text/html": [
       "<div>\n",
       "<style scoped>\n",
       "    .dataframe tbody tr th:only-of-type {\n",
       "        vertical-align: middle;\n",
       "    }\n",
       "\n",
       "    .dataframe tbody tr th {\n",
       "        vertical-align: top;\n",
       "    }\n",
       "\n",
       "    .dataframe thead th {\n",
       "        text-align: right;\n",
       "    }\n",
       "</style>\n",
       "<table border=\"1\" class=\"dataframe\">\n",
       "  <thead>\n",
       "    <tr style=\"text-align: right;\">\n",
       "      <th></th>\n",
       "      <th>Player</th>\n",
       "      <th>Distance Covered</th>\n",
       "    </tr>\n",
       "  </thead>\n",
       "  <tbody>\n",
       "    <tr>\n",
       "      <th>0</th>\n",
       "      <td>Player1</td>\n",
       "      <td>2849.103449</td>\n",
       "    </tr>\n",
       "    <tr>\n",
       "      <th>1</th>\n",
       "      <td>Player2</td>\n",
       "      <td>4756.569165</td>\n",
       "    </tr>\n",
       "    <tr>\n",
       "      <th>2</th>\n",
       "      <td>Player3</td>\n",
       "      <td>2281.156803</td>\n",
       "    </tr>\n",
       "    <tr>\n",
       "      <th>3</th>\n",
       "      <td>Player4</td>\n",
       "      <td>2552.483905</td>\n",
       "    </tr>\n",
       "    <tr>\n",
       "      <th>4</th>\n",
       "      <td>Player5</td>\n",
       "      <td>11615.090777</td>\n",
       "    </tr>\n",
       "    <tr>\n",
       "      <th>5</th>\n",
       "      <td>Player6</td>\n",
       "      <td>8268.799367</td>\n",
       "    </tr>\n",
       "    <tr>\n",
       "      <th>6</th>\n",
       "      <td>Player7</td>\n",
       "      <td>10057.893467</td>\n",
       "    </tr>\n",
       "    <tr>\n",
       "      <th>7</th>\n",
       "      <td>Player8</td>\n",
       "      <td>11738.435158</td>\n",
       "    </tr>\n",
       "    <tr>\n",
       "      <th>8</th>\n",
       "      <td>Player9</td>\n",
       "      <td>8846.314019</td>\n",
       "    </tr>\n",
       "    <tr>\n",
       "      <th>9</th>\n",
       "      <td>Player10</td>\n",
       "      <td>11517.502108</td>\n",
       "    </tr>\n",
       "    <tr>\n",
       "      <th>10</th>\n",
       "      <td>Player11</td>\n",
       "      <td>10379.839147</td>\n",
       "    </tr>\n",
       "    <tr>\n",
       "      <th>11</th>\n",
       "      <td>Player12</td>\n",
       "      <td>9089.623243</td>\n",
       "    </tr>\n",
       "    <tr>\n",
       "      <th>12</th>\n",
       "      <td>Player13</td>\n",
       "      <td>12250.246346</td>\n",
       "    </tr>\n",
       "    <tr>\n",
       "      <th>13</th>\n",
       "      <td>Player14</td>\n",
       "      <td>5630.046795</td>\n",
       "    </tr>\n",
       "    <tr>\n",
       "      <th>14</th>\n",
       "      <td>Player15</td>\n",
       "      <td>5764.680478</td>\n",
       "    </tr>\n",
       "    <tr>\n",
       "      <th>15</th>\n",
       "      <td>Player16</td>\n",
       "      <td>8522.895017</td>\n",
       "    </tr>\n",
       "  </tbody>\n",
       "</table>\n",
       "</div>"
      ],
      "text/plain": [
       "      Player  Distance Covered\n",
       "0    Player1       2849.103449\n",
       "1    Player2       4756.569165\n",
       "2    Player3       2281.156803\n",
       "3    Player4       2552.483905\n",
       "4    Player5      11615.090777\n",
       "5    Player6       8268.799367\n",
       "6    Player7      10057.893467\n",
       "7    Player8      11738.435158\n",
       "8    Player9       8846.314019\n",
       "9   Player10      11517.502108\n",
       "10  Player11      10379.839147\n",
       "11  Player12       9089.623243\n",
       "12  Player13      12250.246346\n",
       "13  Player14       5630.046795\n",
       "14  Player15       5764.680478\n",
       "15  Player16       8522.895017"
      ]
     },
     "execution_count": 85,
     "metadata": {},
     "output_type": "execute_result"
    }
   ],
   "source": [
    "Distance_Covered"
   ]
  }
 ],
 "metadata": {
  "kernelspec": {
   "display_name": "Python 3",
   "language": "python",
   "name": "python3"
  },
  "language_info": {
   "codemirror_mode": {
    "name": "ipython",
    "version": 3
   },
   "file_extension": ".py",
   "mimetype": "text/x-python",
   "name": "python",
   "nbconvert_exporter": "python",
   "pygments_lexer": "ipython3",
   "version": "3.11.8"
  }
 },
 "nbformat": 4,
 "nbformat_minor": 2
}
